{
  "nbformat": 4,
  "nbformat_minor": 0,
  "metadata": {
    "kernelspec": {
      "display_name": "Python 3",
      "language": "python",
      "name": "python3"
    },
    "language_info": {
      "codemirror_mode": {
        "name": "ipython",
        "version": 3
      },
      "file_extension": ".py",
      "mimetype": "text/x-python",
      "name": "python",
      "nbconvert_exporter": "python",
      "pygments_lexer": "ipython3",
      "version": "3.7.6"
    },
    "colab": {
      "name": "Türkiye İş Bankası Yapay Zeka Notları.ipynb",
      "provenance": [],
      "collapsed_sections": [],
      "include_colab_link": true
    }
  },
  "cells": [
    {
      "cell_type": "markdown",
      "metadata": {
        "id": "view-in-github",
        "colab_type": "text"
      },
      "source": [
        "<a href=\"https://colab.research.google.com/github/edaaydinea/Makine-Ogrenmesi-Veri-Bilimi-Notlari/blob/master/T%C3%BCrkiye%20%C4%B0%C5%9F%20Bankas%C4%B1%20Yapay%20Zeka%20Notlar%C4%B1.ipynb\" target=\"_parent\"><img src=\"https://colab.research.google.com/assets/colab-badge.svg\" alt=\"Open In Colab\"/></a>"
      ]
    },
    {
      "cell_type": "markdown",
      "metadata": {
        "id": "ifYxEUlnYk42",
        "colab_type": "text"
      },
      "source": [
        "# YAPAY ZEKA"
      ]
    },
    {
      "cell_type": "markdown",
      "metadata": {
        "id": "QtipWs8kYk44",
        "colab_type": "text"
      },
      "source": [
        "Yapay zeka; genel olarak makinenin algı, muhakeme, öğrenme, çevre ile etkileşim, problem çözme ve hatta yaratıcılık gibi insan zihinleriyle ilişkilendirdiğimiz bilişsel işlevleri gerçekleştirme yeteneği olarak tanımlanır. \n",
        "\n",
        "Yapay zekanın şirket sorunlarını çözmesini sağlayan teknolijilere örnek olarak robotik ve otonom araçlar, bilgisayar görüntüsü, dil, sanat ajanlar, makine öğrenmesi verilebilir. "
      ]
    },
    {
      "cell_type": "markdown",
      "metadata": {
        "id": "qLXDLsZUYk45",
        "colab_type": "text"
      },
      "source": [
        "## Neden şimdi Yapay Zeka?"
      ]
    },
    {
      "cell_type": "markdown",
      "metadata": {
        "id": "-conkX3PYk45",
        "colab_type": "text"
      },
      "source": [
        "Algoritmik gelişmelerin, veri patlamasının, programlama gücü ve depolamasındaki muazzam artışların birleşimi yapay zekayı hayatımıza soktu."
      ]
    },
    {
      "cell_type": "markdown",
      "metadata": {
        "id": "DizZApfrYk46",
        "colab_type": "text"
      },
      "source": [
        "- Algoritmik Gelişmeler (1805 ve sonrası)\n",
        "- Programlama Gücündeki Depolamadaki Katlanan Artış (1965 ve sonrası)\n",
        "- Veri Patlaması (1991 ve sonrası)"
      ]
    },
    {
      "cell_type": "markdown",
      "metadata": {
        "id": "DikP7lDjYk47",
        "colab_type": "text"
      },
      "source": [
        "### Algoritmik Gelişmeler"
      ]
    },
    {
      "cell_type": "markdown",
      "metadata": {
        "id": "0YX0LAt-Yk47",
        "colab_type": "text"
      },
      "source": [
        "- **1805 : Legendre, makine öğrenmesi için zemin hazırlıyor.**\n",
        "\n",
        "Fransız matematikçi Adrien-Marie Legendre, astronomik gözlemlerden güneşin etrafındaki vücut yörüngelerini belirlemek için kullandığı regresyon için en küçük kareler yöntemi yayınladı. \n",
        "\n",
        "Bu yöntem istatistiksel bir çerçeve olarak geliştirilmiş olsa da günümüzün makine öğrenme modellerinin çoğuna temel oluşturuyor.\n",
        "\n",
        "- **1958 : Rosenblatt ilk kendi kendine öğrenme algoritmasını geliştirdi.**\n",
        "\n",
        "Amerikalı psikolog ve bilgisayar bilimcisi Frank Rosenblatt kendi başına öğrenebilecek ilk algoritmik model olarak duran erken tip bir yapay sinir ağı (YSA) olan algılayıcı algoritmasını oluşturdu. \n",
        "\n",
        "Amerikalı bilgisayar bilimcisi Arthur Samuel, bu tür kendi kendine öğrenme modelleri için bir sonraki yıl \"makine öğrenmesi\" terimini kullandı (ayrıca yapay zekada erken başarı olarak görülen, çığır açan bir kontrol programı geliştirdi.)\n",
        "\n",
        "- **1965 : Derin Öğrenmenin Doğuşu**\n",
        "\n",
        "Ukraynalı matematikçi Alexey Grigorevich Ivakhnenko birkaç YSA'nın üst üste istiflendiği ve bir YSA katmanının faaliyetinin beslendiğini denetleyen çok katmanlı yapay sinir ağları için ilk genel çalışma öğrenmesi algoritması geliştirdi. \n",
        "\n",
        "Mantığı günümüzün derin öğrenme mantığına çok benziyor.\n",
        "\n",
        "- **1986 : Geri yayılım kökleşti.**\n",
        "\n",
        "Amerikalı psikolog David Rumelhart, İngiliz bilişsel psikolog, bilgisayar bilimcisi Geoffrey Hinton ve Amerikalı bilgisayar bilimcisi Ronald Williams; ilk olarak 1982 yılında Amerikalı bilim adamı Paul Werbos tarafından önerilen yapay sinir ağlarını eğitmek için anahtar tekniği olan geri yayılım konusunu ortaya çıkarıp popüler hale getirdiler. \n",
        "\n",
        "Geri yayılım YSA'nın insan müdahalesi olmadan kendisini optimize etmesine izin verir (bu takdirde soy ağacı verilerinde belirgin olmayan veya algoritmaya önceden verilen özellikler buldu). Yine de bu çok katmanlı ağları eğitmek için hesaba dayalı gücün eksikliği ve çok miktarda veri bulunması YSA'ların geri yayılımdan yararlanmasının yaygın şekilde kullanılmasını önlüyor.\n",
        "\n",
        "- **1989 : Görüntü tanıma için evrişimli sinir ağının doğuşu**\n",
        "\n",
        "Şu anda Facebook’ta yapay zeka araştırma direktörü olan Fransız bilgisayar bilimcisi Yann LeCun ve diğerleri, evrişimsel sinir ağı olarak adlandırılan bir tür yapay sinir ağının şekil tanıma görevleri için ne kadar uygun olduğunu açıklayan bir makale yayınladılar. \n",
        "\n",
        "LeCun ve ekibi evrişimsel sinir ağlarının el yazısı karakterlerini, tanıma görevi için uyguladılar ve ilk olarak otomatik posta sıralama makineleri oluşturmayı amaçladılar. Günümüzde evrişimsel sinir ağları görüntü tanıma ve sınıflandırma için en gelişmiş modeldir.\n",
        "\n",
        "- **1992 : Geliştirilmiş destek vektör makineleri erken doğal dil işlemi çözümü sunar.**\n",
        "\n",
        "Bilgisayar mühendisleri İsviçreli Bernhard E. Boser, Fransız Isabelle M. Guyon ve Rus matematikçi Vladimir N. Vapnik destek vektör makineleri denilen algoritmik modellerin, çekirdek numarası ile ilgili bir teknik kullanarak ve bu modellerin duyguları sınıflandırma, insan konuşmalarını anlama gibi birçok doğal dil işleme probleminde yaygın şekilde kullanılmasını sağlayarak doğrusal olmayan problemlerle başa çıkmak için kolayca geliştirilebileceğini keşfetti.\n",
        "\n",
        "- **1997 : Tekrarlayan sinir ağları konuşmaya metne dökmek için konumlandırılan bir \"hafıza\" elde etti.**\n",
        "\n",
        "1991'de Alman bilgisayar uzmanı Sepp Hochreiter, tekrarlayan sinir ağı adı verilen özel bir yapay sinir ağı türünün, görevleri sıralamada yararlı olabileceğini gösterdi.\n",
        "\n",
        "1997'de Hochreiter ve diğer bilgisayar bilimci Jürgen Schmidhuber uzun ve kısa vadeli hafıza geliştirerek sorunu çözdü. Günümüzde uzun ve kısa vadeli tekrarlayan sinir ağları birçok büyük konuşma tanıma uygulamasında kullanılmaktadır.\n",
        "\n",
        "- **1998: Brin ve Page Page, Rank algoritmasını yayınladı.**\n",
        "\n",
        "Web sayfalarını, diğer web sayfalarına bağlantı verdikçe daha üst sıralarda tutan bu algoritma Google’ın arama motorunun ilk prototipini oluşturur. Google’ın kurucuları Sergey Brin ve Larry Page’in bu parlak buluşu World Wide Web’de daha fazla içerik ve veri oluşturulmasına, ve bu verilerin kullanılmasına yol açarak internet aramalarında devrim yarattı. \n",
        "\n",
        "Şirketler kullanımı gittikçe yayılmakta olan internete dikkat çekmek için rekabet ettiği sürece bu algoritma onlar için en önemli olanlardan biri olmaya devam edecektir.\n",
        "\n",
        "- **2006: Hinton derin öğrenme modellerinin kullanımına yeniden enerji verdi.**\n",
        "\n",
        "Derin öğrenme modellerinin eğitimini hızlandırmak için Geoffrey Hinton geri yayılımı kullanmadan önce onları derin inanç ağı (bir sinir ağı sınıfı) ile tanıtmak için bir yol geliştirdi. \n",
        "\n",
        "Bilişim gücünün derin öğrenme modelinin verimli çalışmasına izin verecek bir düzeye yükseltildiği yöntem eskidiği için Hinton’un çalışmaları dünya çapında derin öğrenmenin kullanımını yaygınlaştırdı."
      ]
    },
    {
      "cell_type": "markdown",
      "metadata": {
        "id": "IfsnK8SXYk48",
        "colab_type": "text"
      },
      "source": [
        "### Programlama Gücündeki ve Depolamadaki Katlanan Artış"
      ]
    },
    {
      "cell_type": "markdown",
      "metadata": {
        "id": "w8Cz5wrdYk49",
        "colab_type": "text"
      },
      "source": [
        "- **1965: Moore çip gücündeki üstel gelişmeyi kabul etti.**\n",
        "\n",
        "Intel kurucu ortağı Gordon Moore entegre devrelerde inç kare başına düşen transistör sayısının icatlarından bu yana her yıl iki katına çıktığını fark etti. \n",
        "\n",
        "Gözlemleri Moore’un öngörülebilir geleceğe doğru devam edeceğini belirten bir yasa haline dönüştü. O zaman en gelişmiş programlama hızı saniyede üç milyon yüzer nokta işlemleri şeklindeydi.\n",
        "\n",
        "- **1997: Programlama gücündeki artış IBM’in Garry Kasparov’a karşı Deep Blue zaferini kazanmasını sağladı.**\n",
        "\n",
        "Deep Blue’nun dünya satranç şampiyonuna karşında kazandığı başarı büyük ölçüde usta mühendislikten ve o dönemde sahip olunan muazzam güç bilgisayarlarından kaynaklanıyor. \n",
        "\n",
        "Deep Blue’nun bilgisayarı yaklaşık 11 gigaFLOPS (11 milyar FLOPS) elde etti.\n",
        "\n",
        "- **1999: Yapay zeka algoritmaları için daha fazla programlama gücü geldi... ama kimse farkına varamadı.**\n",
        "\n",
        "Nvidia dünyanın ilk gerçek grafik işleme birimi olarak pazarlanan GeForce 256 grafik kartını piyasaya sundu. Bu teknoloji daha sonra bilgisayar işleme birimlerinden çok daha hızlı programlamalar yaparak derin öğrenmenin önemini ispatladı.\n",
        "\n",
        "- **2002: Amazon bulut tabanlı depolama ve bulut bilişimi halka sundu.**\n",
        "\n",
        "Amazon bulut tabanlı depolama ve kullanıcılara bilgi işlem gücü sunan Amazon Web Hizmetlerini başlattı. \n",
        "\n",
        "Bulut bilişim, veri depolamayı ve hesaplamayı, milyonlarca kullanıcının daha önce yalnızca büyük teknoloji şirketlerinin kullanabileceği güçlü IT sistemlerine nispeten daha düşük bir maliyetle erişebilmelerini sağlayarak devrim başlattı.\n",
        "\n",
        "- **2004: Dean ve Ghemawat veri patlaması ile başa çıkmak için MapReduce algoritmasını tanıttı.**\n",
        "\n",
        "World Wide Web’in yükselişiyle Google, elde edilen verilerin çoğalması ile başa çıkmak için yeni fikirler araştırdı.\n",
        "\n",
        "Bilgisayar bilimcisi Jeff Dean (Google Brain Team’in yöneticisi) ve Google yazılım mühendisi Sanjay Ghemawat çok sayıda bilgisayar kullanıp büyük veri kümelerindeki süreçleri paralel hale getirerek büyük miktarda veri ile başa çıkmak için MapReduce'u geliştirdi.\n",
        "\n",
        "- **2005: Bir gigabaytlık disk depolamanın on yıl önce 277 dolar olan maliyeti 0.79 dolara düştü.**\n",
        "\n",
        "Bilgisayarlarda yaygın olarak kullanılan bir tür rasgele erişimli bellek (RAM) olan dinamik rastgele erişim belleğinin (DRAM) fiyatı 1995’te 31.633 dolarken 2005 yılında gigabayt başına 158 dolara düştü.\n",
        "\n",
        "- **2006: Cutting ve Cafarella büyük miktarda veriyi depolamak ve işlemek için Hadoop'u tanıttı.**\n",
        "\n",
        "Google’ın MapReduce’undan ilham alan bilgisayar bilimcileri Doug Cutting ve Mike Cafarella büyük veri setlerini depolamak ve işlemek için Hadoop yazılımını geliştirdi. \n",
        "\n",
        "Yahoo ilk olarak, web sayfalarını ve çevrimiçi verileri dizinlemeden gelen veri çoğalması ile başa çıkmak için kullanıldı.\n",
        "\n",
        "- **2009: UC Berkeley, büyük verileri yönetmek için Spark'ı tanıttı.**\n",
        "\n",
        "Romen-Kanadalı bilgisayar bilimcisi Matei Zaharia tarafından UC Berkeley’in AMPLab’inde geliştirilen Spark, RAM’i kullanan çok büyük miktarda veri akışı sağlayarak, verileri işlerken sabit disklerde okuması/yazması gereken yazılımdan çok daha hızlı hale getirdi. \n",
        "\n",
        "Büyük verileri güncelleme ve analizleri gerçek zamanlı çalışma yeteneğinde devrim yarattı.\n",
        "\n",
        "- **2009: Ng, derin öğrenme modellerini daha verimli bir şekilde eğitmek için grafik işlemci ünitelerini kullandı.**\n",
        "\n",
        "Amerikalı bilgisayar bilimcisi Andrew Ng ve Stanford Üniversitesi'ndeki ekibi, grafik işlemci ünitelerindeki 100 milyon parametresi ile derin inanç ağlarının eğitilmesinin merkezi işlem birimlerinde olduğundan 70 kat daha hızlı olduğunu gösterdi. Bu, bir kerede haftalar süren eğitimi sadece bir güne indirecek bir buluştu.\n",
        "\n",
        "- **2010: Microsoft ve Google bulut sistemlerini tanıttı.**\n",
        "\n",
        "Microsoft Azure'u kullanıma sunarken ve Google, Google Cloud Storage sisteminin (Google Cloud Platformu yaklaşık bir yıl sonra çevrimiçi oldu) lansmanını yaparken bulut bilişim ve depolama aynı anda birçok yerde olma yetisini bir adım öteye götürdü.\n",
        "\n",
        "- **2010: Dünya çapında IP trafiği ayda 20 exabaytı (20 milyar gigabayt) aştı.**\n",
        "\n",
        "İnternet protokolü (IP) trafiğine, 242 exabaytın aylık ve yıllık rakamını bildiren Cisco'ya göre özellikle Amerika Birleşik Devletleri'nde genişlemenin benimsenmesinin yüzde 65'e ulaştığı belirtti.\n",
        "\n",
        "- **2011: IBM ​Jeopardy’​i mağlup etti.**\n",
        "\n",
        "IBM’in soru cevaplama sistemi Watson en büyük iki Jeopardy şampiyonu Brad Rutter ve Ken Jennings’i önemli bir farkla yendi! IBM Watson, 80 teraFLOPS yeteneğine sahip on adet IBM Power 750 sunucusu rafı kullanır.\n",
        "\n",
        "- **2012: Derin öğrenme sistemi ilk kez ünlü görüntü sınıflandırma yarışmasını kazandı.**\n",
        "\n",
        "Geoffrey Hinton’ın takımı ImageNet’in görüntü sınıflandırma yarışmasını evrişimli sinir ağını kullanarak yüzde 26,2’lik en iyi ikinci hata oranına karşı yüzde 15,3’lük bir hata oranıyla kazandı. \n",
        "\n",
        "Hinton’ın ekibi evrişimli sinir ağını, iki grafik işlemci ünite kartı kullanarak 1.2 milyon görüntü üzerinde eğitti.\n",
        "\n",
        "- **2012: Google görüntü tanıma için derin öğrenmenin etkileyiciliğini kanıtladı.**\n",
        "\n",
        "Google üç gün boyunca 10 milyon rastgele seçilmiş YouTube videosu küçük resmine, bir milyar bağlantıya sahip derin bir yapay sinir ağı yetiştirmek için 16.000 işlemci kullandı. \n",
        "\n",
        "Görüntüler hakkında herhangi bir bilgi alınmadan ağ kedilerin resimlerini tanımaya başladı, bu da resim tanımada önemli gelişmelerin başlangıcı oldu.\n",
        "\n",
        "- **2012: Facebook kullanıcılarının sayısı 1 milyara ulaştı.**\n",
        "\n",
        "Şirketin sistemleri tarafından işlenen veri miktarı 500 terabaytı geçerek hızla yükseldi.\n",
        "\n",
        "- **2013: DeepMind takviyeli öğrenmeyi ve derin öğrenmeyi kullanarak Atari oynamaya bir algoritma geliştirdi.**\n",
        "\n",
        "Pekiştirmeli öğrenme 1950'lerin sonlarına dayanır fakat popülerliğini, DeepMind’da Kanadalı bir araştırma bilimcisi olan Vlad Mninh süpermen seviyelerinde Atari video oyunları oynamak için bir evrişimli sinir ağı ile birlikte uyguladığı yıl olan 2013’de kazandı.\n",
        "\n",
        "- **2014: Mobil cihaz sayısı insan sayısını aştı.**\n",
        "\n",
        "Ekim 2014 itibariyle GSM Association mobil cihaz sayısını yaklaşık 7.22 milyar olarak bildirirken, ABD Nüfus Sayım İdaresi bu rakamın 7.20 milyar civarında olduğunu bildirdi.\n",
        "\n",
        "- **2017: Elektronik cihaz kullanıcıları günde 2,5 milyon byte veri üretti.**\n",
        "\n",
        "Bu tahmine göre dünya verilerinin yaklaşık yüzde 90'ı 2016 ve 2017 yıllarında üretildi. YouTube kullanıcıları dakikada dört milyondan fazla video izledi ve mobil kullanıcılar 15 milyondan fazla metin gönderdi.\n",
        "\n",
        "- **2017: AlphaZero 24 saatten az bir sürede üç farklı oyun oynamayı öğrendikten sonra AlphaGo Zero'yu mağlup etti.**\n",
        "\n",
        "Genel bir zekaya sahip yapay zeka yazılımı oluşturulurken onlarca yıl geride kaldı. Google DeepMind, üç bilgisayar oyununu öğrenen AlphaZero ile bir adım daha attı: Go, satranç ve shogi. \n",
        "\n",
        "İnsanlardan talimatlar alarak öğrenen AlphaGo Zero’nun aksine, AlphaZero oyunu kendi kendine oynayarak öğrenir. AlphaGo Zero'yu hem Go'da (sekiz saat kendi kendine oynadıktan sonra), hem de dünyanın en iyi satranç ve shogi oyun programlarında (sırasıyla dört ve iki saat kendi kendine oynadıktan sonra) yenmeye devam etti.\n",
        "\n",
        "- **2017: Google makine öğrenme süreçlerini hızlandıran geliştirilmiş tansör işleme ünitesini tanıttı.**\n",
        "\n",
        "Google, tensör işleme ünitesini ilk kez 2016 yılında tanıttı ve kendi makine öğrenme modellerinin grafik işleme ünitelerinden ve merkezi işleme ünitelerinden 15 ila 30 kat daha hızlı çalıştığını bildirdi. \n",
        "\n",
        "Google, 2017’de tensör işleme ünitesinin yeni sürümünü duyurdu. Bu sürüm kendi makine öğrenmesi modelini daha hızlı ve fazla çalıştırmanın yanı sıra modelleri eğitmek için kullanılabilecek ve bulut üzerinden ödeme yapılabilecek şekilde geliştirilmiş.\n"
      ]
    },
    {
      "cell_type": "markdown",
      "metadata": {
        "id": "5h5BYTRHYk49",
        "colab_type": "text"
      },
      "source": [
        "## VERİ PATLAMASI\n",
        "\n",
        "- **1991: World Wide Web'in açılması**\n",
        "\n",
        "Avrupa Nükleer Araştırma Örgütü (CERN) World Wide Web’i halka açmaya başladı.\n",
        "\n",
        "- **2000: Geniş bant bağlantısı evlerde internet kullanıcıları tarafından kullanılmaya başladı.**\n",
        "\n",
        "Geniş bant kullanıcıların 1990'ların sonlarında çevirmeli bağlantı aracılığıyla indirilmeye hazır olan 56 kbps hızındaki yüksek hızdaki internet bağlantılarına erişmelerini sağladı. \n",
        "\n",
        "Günümüzde mevcut geniş bant hızları 100 mbps'yi (1 mbps = 1,000 kbps) geçiyor. YouTube gibi bant genişliğine aç uygulamalar, geniş bantlar ortaya çıkmasaydı ticari olarak uygulanabilir hale gelemezdi.\n",
        "\n",
        "- **2004: Web 2.0 kullanıcı tarafından oluşturulan veriler dönemini başlatarak performansını zirveye ulaştırdı.**\n",
        "\n",
        "Web 2.0 internet paradigmasının pasif içerik izlemeden etkileşimli ve işbirliğine dayalı içerik oluşturmaya, sosyal medyaya, bloglara, videoya ve diğer kanallara kaydırılmasını ifade eder. \n",
        "\n",
        "1999'da tasarımcı Darcy DiNucci tarafından türetilmesine rağmen terimi popüler hale yayıncılar Tim O'Reilly ve Dale Dougherty getirdi.\n",
        "\n",
        "- **2004: Facebook görücüye çıktı.**\n",
        "\n",
        "\n",
        "\n",
        "Harvard öğrencisi Mark Zuckerberg ve ekibi başlangıçta ‘Thefacebook’ olarak isimlendirilen web sitesinin lansmanını yaptı. 2005 yılının sonunda, veri üreten Facebook’un kullanıcı sayısı altı milyona yaklaştı.\n"
      ]
    },
    {
      "cell_type": "markdown",
      "metadata": {
        "id": "a5_PHmwt6new",
        "colab_type": "text"
      },
      "source": [
        "![alt text](https://www.gannett-cdn.com/presto/2020/02/01/PCIN/e6bcf40e-0bc3-45fe-b005-a11e34833f0b-https___b-i.forbesimg.com_greatspeculations_files_2013_07_0cKD5Zj8iV3dV_112030.jpg?width=540&height=&fit=bounds&auto=webp)"
      ]
    },
    {
      "cell_type": "markdown",
      "metadata": {
        "id": "fiYO_ErMYk4-",
        "colab_type": "text"
      },
      "source": [
        "- **2005: YouTube görücüye çıktı.**\n",
        "\n",
        "![alt text](https://s3.amazonaws.com/s3.timetoast.com/public/uploads/photo/14298097/image/original-8e704fb7f171cb895d19e6f326ecbd29.png)\n",
        "\n",
        "Yaklaşık 18 ay içerisinde site günde neredeyse 100 milyon görüntüyü servis etti."
      ]
    },
    {
      "cell_type": "markdown",
      "metadata": {
        "id": "Pmxz3PGqYk4_",
        "colab_type": "text"
      },
      "source": [
        "- **2005: Dünyadaki internet kullanıcısı 1 milyar geçti.**\n",
        "\n",
        "Dünya genelinde internet kullananların sayısı bir milyon hedefini geçti.\n",
        "\n",
        "- **2007: iPhone'un tanıtımı akıllı telefon devrimine öncülük etti ve veri üretimini hızlandırdı.**\n",
        "\n",
        "![alt text](https://thumbor.forbes.com/thumbor/960x0/https%3A%2F%2Fspecials-images.forbesimg.com%2Fimageserve%2Fdd8e4fd9dcc249fabb057f58d3535475%2F960x0.jpg%3Ffit%3Dscale)\n",
        "\n",
        "Apple şirketinin kurucu ortağı ve CEO’su Steve Job 2007 yılının\n",
        "\n",
        "ocak ayında iPhone’u tanıttı. 2007 yılında satılan toplam akıllı telefon sayısı yaklaşık 122 milyona ulaştı. Akıllı telefon kullanıcıları tarafından 24 saat tüketim, veri ve içerik oluşturma dönemi başladı."
      ]
    },
    {
      "cell_type": "markdown",
      "metadata": {
        "id": "wHrFM5mFYk4_",
        "colab_type": "text"
      },
      "source": [
        "# Makine Öğrenmesi\n",
        "\n",
        "Yapay zeka konusundaki en son gelişmeler makine öğrenimini çok büyük veri kümelerine uygulayarak sağlanmıştır.\n",
        "\n",
        "Makine öğrenimi algoritmaları kalıpları tespit eder, açık programlama talimatı almak yerine verileri ve deneyimleri işleyerek nasıl tahmin, önerilerde bulunacağını öğrenir. \n",
        "\n",
        "Algoritmalar ayrıca zaman içindeki etkinliği arttırmak için yeni verilere ve deneyimlere cevap olarak adapte olurlar.\n",
        "\n",
        "\n",
        "- **Tanımlayıcı:** Ne olduğunu tanımlar. Tüm sektörlerde yoğun olarak kullanılır.\n",
        "\n",
        "- **Tahmini:** Ne olacağını tahmin eder (doğal olarak olasılıksal). Veri odaklı şirketlerde anahtar bir sezgi kaynağı olarak kullanılır.\n",
        "\n",
        "- **Kuralcı:** Hedeflere ulaşmak için ne yapılması gerektiği konusunda önerilerde bulunur. Lider veriler ve internet şirketleri tarafından yoğun olarak kullanılır. \n",
        "\n"
      ]
    },
    {
      "cell_type": "markdown",
      "metadata": {
        "id": "k5HPhT7bYk5A",
        "colab_type": "text"
      },
      "source": [
        "## Tanımlıyıcı  (Ana Türler)\n",
        "\n",
        "- **Gözetimli Öğrenme (Supervised Learning)**\n",
        "- **Gözetimsiz Öğrenme (Unsupervised Learning)**\n",
        "- **Pekiştirmeli Öğrenme (Reinforcement Learning)**"
      ]
    },
    {
      "cell_type": "markdown",
      "metadata": {
        "id": "8PqBnQkIYk5B",
        "colab_type": "text"
      },
      "source": [
        "### Gözetimli Öğrenme (Supervised Learning)\n",
        "\n",
        "- **Gözetimli Öğrenme Nedir?**\n",
        "\n",
        "![alt text](https://dlvkyia8i4zmz.cloudfront.net/mq3ID0VQ2yTUZWAxgy4E_PastedGraphic_16.png)\n",
        "\n",
        "Bu algoritma verilen girdilerin belirli bir çıktıyla ilişkisini öğrenmek için insanların eğitim verilerini ve geri bildirimlerini kullanır (örneğin, “yılın belli zamanı” ve “faiz oranları” girdilerinin konut fiyatlarını nasıl öngördüğünü)."
      ]
    },
    {
      "cell_type": "markdown",
      "metadata": {
        "id": "3qqzk9STYk5B",
        "colab_type": "text"
      },
      "source": [
        "- **Gözetimli Öğrenme ne zaman kullanılır?**\n",
        "\n",
        "Girdi verilerini ve tahmin etmek istediğiniz davranış türünü nasıl sınıflandıracağınızı biliyorsanız ve yeni verilerin sizin için hesaplanmasını istiyorsanız gözetimli öğrenme algoritmasını kullanabilirsiniz.\n",
        "\n",
        "- **Gözetimli Öğrenme nasıl çalışır?**\n",
        "\n",
        "Bir insan girdi verilerini etiketler (örneğin, konut fiyatlarının öngörülmesi durumunda girdi verilerini “yılın belli zamanı”, “faiz oranları” vb. olarak etiketler) ve çıktı değişkenini (örneğin konut fiyatları) tanımlar.\n",
        "\n",
        "Algoritma giriş değişkenleri ile çıktı arasındaki bağlantıyı bulmak için veriler üzerinde eğitilir.\n",
        "\n",
        "Eğitim tamamlandığında algoritma yeterince kesinleştiğinde yeni verilere uygulanır.\n",
        "\n"
      ]
    },
    {
      "cell_type": "markdown",
      "metadata": {
        "id": "C6QEIef8Yk5C",
        "colab_type": "text"
      },
      "source": [
        "- **Algoritmik / Kullanım Alanları**\n",
        "\n",
        "##### ***Doğrusal Regresyon (Linear Regression)***\n",
        "\n",
        "Çıktı değişkenlerinin gelecekteki değerlerini tahmin etmeye yardımcı olmak için bağımsız girdi değişkenleri ile bağımlı çıktı değişkenleri (sonsuz sayıda değere sahip olabilir) arasındaki geçmiş ilişkinin modellenmesinde yüksek derecede yorumlanabilir standart yöntemdir.\n",
        "\n",
        "Kullanım alanları:\n",
        "\n",
        "● Rekabet fiyatları, dağıtım, reklam vb. ürün satış sürücülerini kavrar.\n",
        "\n",
        "● Fiyat noktalarını optimize eder ve ürün fiyat esnekliğini tahmin eder.\n",
        "\n",
        "##### ***Logistik Regresyon (Logistic Regression)***\n",
        "\n",
        "Sınıflandırma görevleri için kullanılan doğrusal regresyonla bazı benzerliklere sahip bir modeldir. Yani çıktı değişkeni potansiyel renklerin sonsuz bir listesi gibi sürekli değil, yalnızca siyah veya beyaz gibi ikilidir.\n",
        "\n",
        "Kullanım alanları:\n",
        "\n",
        "● Müşterileri krediyi geri ödeme ihtimallerine göre sınıflandırır.\n",
        "\n",
        "● Bir cilt lezyonunun özelliklerine göre (boyut, şekil, renk vb.) lezyonun iyi huylu veya kötü huylu olup olmadığını tahmin eder.\n",
        "\n",
        "##### ***Doğrusal / Karesel Diskriminant Analizi  (Linear / Quadratic Discriminant Analysis)***\n",
        "\n",
        "Bu algoritma, doğrusal olmayan problemlerle başa çıkmak için bir lojistik regresyon geliştirir. Bu girdi değişkenlerinin değerinde değişiklik yapanlar, çıktı değişkenlerinde orantılı değişikliklerle sonuçlanmaz.\n",
        "Kullanım alanları:\n",
        "\n",
        "● Müşteri kaybını tahmin eder.\n",
        "\n",
        "● Bir satış temsilcisinin satışı kapatma olasılığını tahmin eder.\n",
        "\n",
        "##### ***Karar Şeması (Decision Tree)***\n",
        "\n",
        "Veri özellik değerlerini nihai bir karar verinceye kadar karar düğümlerinde dallara bölen yüksek yorumlanabilir sınıflandırma ya da regresyon modelidir. Örneğin, eğer özellik bir renkse, her olası renk yeni bir dal haline gelir.\n",
        "\n",
        "Kullanım alanları:\n",
        "\n",
        "● Bir ürünün satın alınma olasılığını artıran ürün özelliklerini anlar.\n",
        "\n",
        "● Yeni çalışanları işe almak için bir karar çerçevesi sağlar.\n",
        "\n",
        "##### ***Naive Bayes***\n",
        "\n",
        "Bir olayı etkileyebilecek değişkenlerin bilgisine dayanarak olasılığın hesaplanmasına izin veren Bayes teoremini uygulayan sınıflandırma tekniğidir. Örneğin, eğer bir e-posta \"para\" kelimesini içeriyorsa spam olma olasılığı yüksektir.\n",
        "Kullanım alanları:\n",
        "\n",
        "● Piyasadaki ürün algısını değerlendirmek için fikirleri analiz eder.\n",
        "\n",
        "● Spam e-postaları filtrelemek için sınıflandırıcılar oluşturur.\n",
        "\n",
        "##### ***Destek Vektör Makinesi (Support Vector Machines)***\n",
        "\n",
        "Genellikle sınıflandırma için kullanılan ancak regresyon yapmak için dönüştürülebilen bir tekniktir. Mümkün olduğu kadar geniş olan sınıflar arasında bir ayrım yapar. Ayrıca doğrusal olmayan sorunları çözmek için genelleştirilebilir.\n",
        "\n",
        "Kullanım alanları:\n",
        "\n",
        "● Bir hastanenin bir süre içinde kaç hastaya hizmet etmesi gerektiğini tahmin eder.\n",
        "\n",
        "● Birinin çevrimiçi bir reklamı tıklama olasılığını tahmin eder.\n",
        "\n",
        "##### ***Rastgele Orman (Random Forest)***\n",
        "\n",
        "Birden fazla karar şeması oluşturarak basit bir karar ağacının doğruluğunu artıran bir sınıflandırma ya da regresyon modelidir. \n",
        "\n",
        "Bir regresyon problemi için yaş gibi sürekli bir değişken olan ve sınıflandırma için siyah, beyaz ya da kırmızı ayrık bir değişken olan çıktının tahmin edilmesi için çoğunluk oyu alır.\n",
        "\n",
        "Kullanım alanları:\n",
        "\n",
        "● Çağrı hacmini tahmin eder.\n",
        "\n",
        "● Elektrik dağıtım şebekesinde güç kullanımını tahmin eder.\n",
        "\n",
        "##### ***AdaBoost***\n",
        "\n",
        "Karar vermek için çok sayıda model kullanan sınıflandırma veya regresyon tekniğidir ancak sonuçları tahmin etmedeki doğruluklarına dayanarak tartar.\n",
        "\n",
        "\n",
        "Kullanım alanları:\n",
        "\n",
        "● Kredi kartı işlemlerinde hileli faaliyetler tespit edilir. Derin öğrenmeye göre daha düşük doğruluk sağlar.\n",
        "\n",
        "● Görüntüleri sınıflandırmanın basit, düşük maliyetli yolunu arar (örneğin, iklim değişikliği modelleri için uydu görüntülerinden arazi kullanımını tanımak).\n",
        "\n",
        "##### ***Gradyan Arttırma Şeması (Gradient Boosting Decision Tree)***\n",
        "\n",
        "Sıralı olarak her şemanın önceki modelden gelen hataları düzeltmeye odaklandığı karar ağaçları oluşturan sınıflandırma veya regresyon tekniğidir. Son çıktı tüm şemalardan elde edilen sonuçların bir birleşimidir.\n",
        "\n",
        "\n",
        "Kullanım alanları:\n",
        "\n",
        "● Ürün talebini ve stok seviyelerini tahmin eder.\n",
        "\n",
        "● Otomobillerin fiyatlarını özelliklerine (örneğin, yaş ve\n",
        "kilometre) göre tahmin eder.\n",
        "\n",
        "##### ***Basit Sinir Ağı (Neural Networks)***\n",
        "\n",
        "apay nöronların; yazılım tabanlı hesap makinelerinin bir girdi katmanı, hesaplamaların gerçekleştiği bir veya daha fazla gizli katman ve bir çıktı katmanı oluşturduğu modeldir. \n",
        "\n",
        "Regresyon problemlerinde verileri sınıflandırmak veya değişkenler arasındaki ilişkiyi bulmak için kullanılabilir.\n",
        "\n",
        "\n",
        "Kullanım alanları:\n",
        "\n",
        "● Hastanın bir sağlık programına katılma olasılığını tahmin eder.\n",
        "\n",
        "● Kayıtlı kullanıcıların bir ürün için belirli bir fiyat ödemeye istekli olup olmayacağını tahmin eder."
      ]
    },
    {
      "cell_type": "markdown",
      "metadata": {
        "id": "cJCLFs6NYk5C",
        "colab_type": "text"
      },
      "source": [
        "### Gözetimsiz Öğrenme (Unsupervised Learning)\n",
        "\n",
        "- **Gözetimsiz Öğrenme nedir?**\n",
        "\n",
        "![alt text](https://dlvkyia8i4zmz.cloudfront.net/qVYgGiTIWSGlJVF1bKgV_PastedGraphic_17.png)\n",
        "\n",
        "Bir algoritma, açık bir çıktı değişkeni verilmeden girdi verilerini araştırır. Örneğin, kalıpları tanımlamak için müşteri demografik verilerini araştırır."
      ]
    },
    {
      "cell_type": "markdown",
      "metadata": {
        "id": "5vg5hSdUYk5D",
        "colab_type": "text"
      },
      "source": [
        "- **Gözetimsiz öğrenme ne zaman kullanılır?**\n",
        "\n",
        "Bu algoritma, verilerin nasıl sınıflandırılacağını bilmiyorsanız, kalıpları bulmak ve verileri sınıflandırmak istediğinizde kullanılır.\n",
        "\n",
        "- **Gözetimsiz öğrenme nasıl çalışır?**\n",
        "\n",
        "Algoritma etiketsiz verileri alır (örneğin, bir web sitesinde müşteri seyahatlerini tanımlayan bir veri kümesi).\n",
        "\n",
        "Verilerden bir yapı ortaya çıkartır.\n",
        "\n",
        "Algoritma benzer davranış sergileyen veri gruplarını tanımlar (örneğin, benzer satın alma davranışları sergileyen müşterilerin kümelerini oluşturur)\n"
      ]
    },
    {
      "cell_type": "markdown",
      "metadata": {
        "id": "cJRuK4xbYk5E",
        "colab_type": "text"
      },
      "source": [
        "- **Algoritmalar / Kullanım Alanları**\n",
        "\n",
        "##### ***K - Ortalama Kümeleme (K - Means Clustering)***\n",
        "\n",
        "Verileri, her biri benzer özelliklere sahip veri içeren birkaç gruba yerleştirir.\n",
        "\n",
        "\n",
        "Kullanım alanları:\n",
        "\n",
        "● Örneğin, pazarlama kampanyalarını daha iyi atamak veya karmaşayı önlemek için müşterileri farklı özelliklere göre (örneğin yaş grubu) gruplara ayırır.\n",
        "\n",
        "##### ***Gaussian Karışım Modeli (Gaussian Mixture Model)***\n",
        "\n",
        "Grupların (kümeler) boyutunda ve şeklinde daha fazla esneklik sağlayan k-ortalama kümelemesinin genelleştirilmesidir.\n",
        "\n",
        "\n",
        "Kullanım alanları:\n",
        "\n",
        "● Çalışanları yıpranma ihtimaline göre segmentlere ayırır.\n",
        "\n",
        "● Daha az belirgin müşteri özellikleri (örneğin, ürün\n",
        "tercihleri) kullanarak pazarlama kampanyalarını daha iyi\n",
        "atamak için müşterileri segmentlere ayırır.\n",
        "\n",
        "##### ***Hiyerarşik Kümeleme (Hierarchical Clustering)***\n",
        "\n",
        "Sınıflandırma sistemi oluşturmak için kümeleri hiyerarşik bir ağaç boyunca böler veya toplar.\n",
        "\n",
        "Kullanım alanları:\n",
        "\n",
        "● Sadakat programı müşterilerini giderek daha fazla sayıda mikro segmentli gruba ayırır.\n",
        "\n",
        "● Sosyal medya verilerinde anahtar kelimelerden söz eden müşterileri gruplandırarak ürün kullanımı / gelişimi hakkında bilgilendirir.\n",
        "\n",
        "##### ***Tavsiye Sistemi (Recommendation Systems)***\n",
        "\n",
        "Genellikle bir öneride bulunmak için gerekli olan önemli verileri tanımlamak için küme davranışı tahminini kullanır.\n",
        "\n",
        "\n",
        "Kullanım alanları\n",
        "\n",
        "● Tüketicilerin, benzer özelliklere sahip diğer müşterilerin tercihlerine göre hangi filmleri izlemesi gerektiğini tavsiye eder.   \n",
        "\n",
        "● Bir okuyucunun okuduğu makaleye dayanarak okumak isteyebileceği haber makaleleri önerir."
      ]
    },
    {
      "cell_type": "markdown",
      "metadata": {
        "id": "uW-p14DDYk5E",
        "colab_type": "text"
      },
      "source": [
        "### Pekiştirmeli Öğrenme (Reinforcement Learning)\n",
        "\n",
        "- **Pekiştirmeli Öğrenme nedir?**\n",
        "\n",
        "![alt text](https://dlvkyia8i4zmz.cloudfront.net/KRUYJgrvQpiujEgC7MCy_PastedGraphic_18.png)\n",
        "\n",
        "Bu algoritma görevi için aldığı kazançları en üst düzeye çıkarmaya çalışarak bir görevi yerine getirmeyi öğrenir. Örneğin, bir yatırım portföyünün getirisini artırmak için aldığı puanları en üst düzeye çıkarır.\n",
        "\n",
        "- **Pekiştirmeli öğrenme ne zaman kullanılır?**\n",
        "\n",
        "Çok fazla eğitim veriniz olmadığı zaman ideal son durumu açıkça tanımlayamazsınız; bu yüzden çevre hakkında bilgi edinmenin tek yolu bu algoritma ile etkileşim kurmaktır.\n",
        "\n",
        "- **Pekiştirmeli öğrenme nasıl çalışır?**\n",
        "\n",
        "Algoritma ortam üzerinde bir eylemde bulunur (örneğin, bir finansal portföyde işlem yapar).\n",
        "\n",
        "Eğer bu aksiyon makineye mevcut toplam kazancı maksimuma çıkarmak için bir adım daha yaklaştırırsa bir ödül alır (örneğin, portföydeki en yüksek toplam getiri).\n",
        "\n",
        "Algoritma, zaman içinde kendisini düzelterek en iyi eylem dizisi için optimize eder."
      ]
    },
    {
      "cell_type": "markdown",
      "metadata": {
        "id": "qHief4kxYk5F",
        "colab_type": "text"
      },
      "source": [
        "- **Pekiştirmeli öğrenme kullanım alanları nelerdir?**\n",
        "\n",
        "Bir opsiyonel alım satım portföyü için ticaret stratejisini optimize eder.\n",
        "\n",
        "Robotları kullanarak stoklar ve envanter seçer\n",
        "\n",
        "Sınırlı tedarik edilen bir ürünün çevrimiçi açık artırması için fiyatlandırmayı gerçek zamanlı olarak optimize eder\n",
        "\n",
        "Elektrik şebekelerinin yükünü değişen talep döngülerinde dengeler\n",
        "\n",
        "Kendi kendini süren otomobillerin sürüş davranışını optimize eder!"
      ]
    },
    {
      "cell_type": "markdown",
      "metadata": {
        "id": "2h7rSEBxYk5F",
        "colab_type": "text"
      },
      "source": [
        "# Derin Öğrenme (Deep Learning)\n",
        "\n",
        "![alt text](https://dlvkyia8i4zmz.cloudfront.net/uAyA5UcSSvWXwicjRT71_PastedGraphic_19.png)\n",
        "\n",
        "Derin öğrenme daha geniş bir yelpazedeki veri kaynaklarını işleyebilen, insanlar tarafından daha az veri işlemeye tabi tutmayı gerektiren ve geleneksel makine öğrenimi yaklaşımlarından daha sık doğru sonuçlar üretebilen bir tür makine öğrenmesidir (bunu yapmak için daha büyük miktarda veri gerektirse de). \n",
        "\n",
        "Derin öğrenmede “nöronlar” olarak bilinen birbirine bağlı yazılım tabanlı hesap katmanları sinir ağını oluşturur. Ağ büyük miktarlarda girdi verisi alabilir ve bunları her bir katmanda verinin karmaşık özelliklerini öğrenen çoklu katmanlar yoluyla işleyebilir. \n",
        "\n",
        "Ağ daha sonra veriler hakkında bir belirleme yapabilir, tespitinin doğru olup olmadığını öğrenebilir ve yeni veriler hakkında tespitlerde bulunmak için öğrendiklerini kullanabilir. Örneğin, bir nesnenin nasıl göründüğünü öğrendiğinde nesneyi yeni bir görüntüde tanıyabilir.\n",
        "\n",
        "●  Derin öğrenme geleneksel yöntemlerden daha iyi performans gösterebilir."
      ]
    },
    {
      "cell_type": "markdown",
      "metadata": {
        "id": "mxJPbASWYk5G",
        "colab_type": "text"
      },
      "source": [
        "## Ana Türler \n",
        "\n",
        "- **Evrişimli Sinir Ağı (Convolutional Neural Networks)**\n",
        "- **Tekrarlayan Sinir Ağı (Recurrent Neural Networks)**\n"
      ]
    },
    {
      "cell_type": "markdown",
      "metadata": {
        "id": "hr0w-72UYk5H",
        "colab_type": "text"
      },
      "source": [
        "### Evrişimli Sinir Ağı (Convolutional Neural Networks)\n",
        " \n",
        "- **Evrişimli Sinir Ağı nedir?**\n",
        "\n",
        "Çıktıyı belirlemek için her katmandaki verilerin giderek daha karmaşık özelliklerini çıkarmak için tasarlanmış özel bir mimariye sahip çok katmanlı bir sinir ağı.\n",
        "\n",
        "- **Evrişimli sinir ağı ne zaman kullanılır?**\n",
        "\n",
        "Yapılandırılmamış bir veri kümesine (örneğin; görüntüler) sahipseniz,\n",
        "bundan bilgi çıkarmanız gerektiği zaman kullanılır.\n",
        "\n",
        "- **Evrişimli sinir ağı nasıl çalışır?**\n",
        "\n",
        "![alt text](https://dlvkyia8i4zmz.cloudfront.net/Ylq9rakSTK1qjxLGWZLw_PastedGraphic_21.png)\n",
        "\n",
        "1. Evrişimli sinir ağı, örneğin “A” harfinin bir piksel koleksiyonu olarak işlediği bir görüntü alır.\n",
        "\n",
        "2. Gizli katmanlarda benzersiz özellikleri; örneğin “A” yı oluşturan ayrı ayrı satırları tanımlar.\n",
        "\n",
        "3. Evrişimli sinir ağı daha önce harfi oluşturmak için tanımlanmış benzersiz özellikleri bulursa, artık farklı bir görüntüyü “A” harfi olarak sınıflandırabilir."
      ]
    },
    {
      "cell_type": "markdown",
      "metadata": {
        "id": "t6hNiWr4Yk5H",
        "colab_type": "text"
      },
      "source": [
        " - **Evrişimli sinir ağı kullanım alanları**\n",
        " \n",
        "1. Tıbbi aramalardan sağlık hastalıklarını teşhis eder. \n",
        " \n",
        "2. Müşterilerin marka algısını ve kullanımını görüntülerden anlar.\n",
        " \n",
        "3. Ortak pazarlama fırsatlarını daha iyi anlamak için sosyal medyada bir şirket logosu tespit eder (örneğin, bir üründeki markaların eşleştirilmesi).\n",
        " \n",
        "4. Üretim hattındaki kusurlu ürünleri görüntüler aracılığıyla tespit eder. "
      ]
    },
    {
      "cell_type": "markdown",
      "metadata": {
        "id": "BXfq1qhtYk5I",
        "colab_type": "text"
      },
      "source": [
        "### Tekrarlayan Sinir Ağı (Recurrent Neural Networks)\n",
        "\n",
        "- **Tekrarlayan sinir ağı nedir?**\n",
        "\n",
        "Bilgileri bağlam düğümlerinde depolayabilen, veri dizilerini öğrenmesini ve bir sayı veya başka bir dizi vermesini sağlayan çok katmanlı bir sinir ağıdır.\n",
        "\n",
        "- **Tekrarlayan sinir ağı ne zaman kullanılır?**\n",
        "\n",
        "Zaman serisi verileri veya dizileriyle çalışırken kullanılır. (örneğin, ses kayıtları veya metin)\n",
        "\n",
        "- **Tekrarlayan sinir ağı nasıl çalışır?** \n",
        "\n",
        "![alt text](https://dlvkyia8i4zmz.cloudfront.net/rFt0zBImQK7B5eZKAMT5_PastedGraphic_22_1.png)\n",
        "\n",
        "Diğer sinir ağı mimarileri bütün girdilerin birbirinden bağımsız olduğunu varsaymaktadır. Ancak bu varsayım, bazı görevler için iyi çalışmaz. \n",
        "Örnek olarak bir sonraki kelimeyi bir cümlede tahmin etme görevini alın; daha önce gelen birkaç kelime biliniyorsa bir sonraki kelimeyi tahmin etmek daha kolaydır.\n",
        "\n",
        "\n",
        "1. Tekrarlayan bir sinir ağı nöronu bir cümlenin başladığını belirten bir komut alır.\n",
        "\n",
        "2. Nöron “Are” kelimesini alır ve daha sonra “Are” aldığını (ve önce aldığını) hatırlamasına yardımcı olmak için tekrar nörona beslenen bir sayı vektörü çıkarır. Aynı işlem, her kelimeyi aldıktan sonra nöronun durumu ile birlikte “you” ve “free” aldığında da gerçekleşir.\n",
        "\n",
        "3. “Free” ifadesini aldıktan sonra nöron, İngilizce kelime hazinesinde cümleyi tamamlayabilecek her kelimeye bir olasılık verir. İyi eğitilmişse, tekrarlayan sinir ağı “tomorrow” kelimesini en yüksek olasılıklardan birine atayacak ve cümleyi tamamlamak için onu seçecektir."
      ]
    },
    {
      "cell_type": "markdown",
      "metadata": {
        "id": "e3uNoQPkYk5I",
        "colab_type": "text"
      },
      "source": [
        "- **Tekrarlayan sinir ağı kullanım alanları**\n",
        "\n",
        "\n",
        "1. Menkul kıymet yatırımcıları için analist raporları oluşturur.\n",
        "2. Potansiyel hasar taleplerini değerlendirmek için bir felaketten sonra bir bölgedeki görsel değişiklikleri izler (evrişimli sinir ağları ile birlikte).\n",
        "3. Görüntüler için başlık oluşturur.\n",
        "4. Dil çevirisini sağlar.\n",
        "5. Bir kredi kartı işlemindeki sahtekarlık olasılığını değerlendirir.\n",
        "6. Farklı müşteri ihtiyaçlarını ve taleplerini karşılayabilen sohbet robotlarına güç sağlar."
      ]
    },
    {
      "cell_type": "markdown",
      "metadata": {
        "id": "PgYmOXZNYk5J",
        "colab_type": "text"
      },
      "source": [
        "References: https://toptalent.outgrow.us/yapay-zeka"
      ]
    }
  ]
}